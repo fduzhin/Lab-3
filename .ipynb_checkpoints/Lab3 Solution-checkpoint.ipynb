{
 "cells": [
  {
   "cell_type": "markdown",
   "metadata": {},
   "source": [
    "\\tableofcontents\n",
    "\n",
    "# Exercise 1\n",
    "In a stage-structured matrix model of a population, the Lefkovitch\n",
    "matrix $L$ and initial population vector $x^0$ are stored, \n",
    "respectively, as the matrix `L` and vector `x0` in the \n",
    "data file `population.txt` on the course website.\n",
    "You can issue the following command\n",
    "to load these data.\n",
    "What is the total initial population? \n",
    "How many life stages are there in this model?"
   ]
  },
  {
   "cell_type": "code",
   "execution_count": 1,
   "metadata": {},
   "outputs": [],
   "source": [
    "import numpy as np\n",
    "L = np.matrix(np.loadtxt('population.txt', delimiter=','))\n",
    "x0 = np.matrix(np.loadtxt('x0.txt', delimiter=',')).T "
   ]
  },
  {
   "cell_type": "code",
   "execution_count": 2,
   "metadata": {
    "scrolled": true
   },
   "outputs": [
    {
     "name": "stdout",
     "output_type": "stream",
     "text": [
      "[[0.  0.2 0.2 0.3 0.8 0.8 0.7 0.6 0.5 0.3]\n",
      " [0.8 0.1 0.  0.  0.  0.  0.  0.  0.  0. ]\n",
      " [0.  0.5 0.2 0.  0.  0.  0.  0.  0.  0. ]\n",
      " [0.  0.  0.6 0.3 0.  0.  0.  0.  0.  0. ]\n",
      " [0.  0.  0.  0.5 0.3 0.  0.  0.  0.  0. ]\n",
      " [0.  0.  0.  0.  0.4 0.3 0.  0.  0.  0. ]\n",
      " [0.  0.  0.  0.  0.  0.3 0.3 0.  0.  0. ]\n",
      " [0.  0.  0.  0.  0.  0.  0.2 0.3 0.  0. ]\n",
      " [0.  0.  0.  0.  0.  0.  0.  0.1 0.3 0. ]\n",
      " [0.  0.  0.  0.  0.  0.  0.  0.  0.1 0.2]]\n"
     ]
    }
   ],
   "source": [
    "print(L)"
   ]
  },
  {
   "cell_type": "code",
   "execution_count": 3,
   "metadata": {},
   "outputs": [
    {
     "name": "stdout",
     "output_type": "stream",
     "text": [
      "[[80.]\n",
      " [90.]\n",
      " [90.]\n",
      " [60.]\n",
      " [90.]\n",
      " [90.]\n",
      " [60.]\n",
      " [40.]\n",
      " [70.]\n",
      " [10.]]\n"
     ]
    }
   ],
   "source": [
    "print(x0)"
   ]
  },
  {
   "cell_type": "code",
   "execution_count": 4,
   "metadata": {
    "scrolled": true
   },
   "outputs": [
    {
     "data": {
      "text/plain": [
       "680.0"
      ]
     },
     "execution_count": 4,
     "metadata": {},
     "output_type": "execute_result"
    }
   ],
   "source": [
    "x0.sum()"
   ]
  },
  {
   "cell_type": "markdown",
   "metadata": {},
   "source": [
    "There are 10 stages and the total initial population is 680.\n"
   ]
  },
  {
   "cell_type": "markdown",
   "metadata": {},
   "source": [
    "# Exercise 2\n",
    "Create a plot for the total population in this model over the time\n",
    "periods $t = 0, 1, \\dots, 20$."
   ]
  },
  {
   "cell_type": "code",
   "execution_count": 5,
   "metadata": {},
   "outputs": [],
   "source": [
    "import matplotlib.pyplot as plt"
   ]
  },
  {
   "cell_type": "code",
   "execution_count": 6,
   "metadata": {},
   "outputs": [],
   "source": [
    "# write a function that returns totl population after over the period t\n",
    "def total_pops(t):\n",
    "    return ((L**t)*x0).sum()"
   ]
  },
  {
   "cell_type": "code",
   "execution_count": 7,
   "metadata": {},
   "outputs": [],
   "source": [
    "# vectorize the total_pops function\n",
    "total_pops_vec = np.vectorize(total_pops)\n",
    "\n",
    "# find total_pops over period t = 0,1,2,...,20 \n",
    "total_populations = total_pops_vec(np.arange(0,21))"
   ]
  },
  {
   "cell_type": "code",
   "execution_count": 8,
   "metadata": {},
   "outputs": [
    {
     "data": {
      "image/png": "[encoded data removed]",
      "text/plain": [
       "<Figure size 432x288 with 1 Axes>"
      ]
     },
     "metadata": {},
     "output_type": "display_data"
    }
   ],
   "source": [
    "plt.plot(total_populations)\n",
    "plt.xlabel('after t periods')\n",
    "plt.ylabel('total population')\n",
    "plt.show()"
   ]
  },
  {
   "cell_type": "markdown",
   "metadata": {},
   "source": [
    "# Exercise 3\n",
    "Expermiment with different values of $s_{01}$ in the Lefkovitch matrix $L$ to find a threshold $\\overline{s_{01}}$ (to the nearest three decimal places) such that the population eventually dies off when $s_{01} < \\overline{s_{01}}$, but eventually explodes when $s_{01}>\\overline{s_{01}}$."
   ]
  },
  {
   "cell_type": "code",
   "execution_count": 9,
   "metadata": {},
   "outputs": [
    {
     "data": {
      "text/plain": [
       "0.8"
      ]
     },
     "execution_count": 9,
     "metadata": {},
     "output_type": "execute_result"
    }
   ],
   "source": [
    "L[1,0]"
   ]
  },
  {
   "cell_type": "markdown",
   "metadata": {},
   "source": [
    "Note that $s_{01}$ is actually `L[1,0]` and initially it is $0.8$.\n",
    "\n",
    "Now, we need to do the following thing: given a value `s` for `L[1,0]`, we create a new matrix `L1` with same entries as `L` except for the entry `L[1,0] = s`.\n",
    "\n",
    "Further, this new matrix is `L1=L0+s*U`, where `L0` is the same as `L`, except for the entry `L[1,0]=0` and `U` is the matrix with all entries being `0`, except for `U[1,0]=1`."
   ]
  },
  {
   "cell_type": "code",
   "execution_count": 10,
   "metadata": {},
   "outputs": [],
   "source": [
    "L0=L\n",
    "L0[1,0] = 0\n",
    "U = np.matrix(np.zeros((10,10)))\n",
    "U[1,0]=1"
   ]
  },
  {
   "cell_type": "code",
   "execution_count": 11,
   "metadata": {},
   "outputs": [
    {
     "data": {
      "text/plain": [
       "matrix([[0. , 0.2, 0.2, 0.3, 0.8, 0.8, 0.7, 0.6, 0.5, 0.3],\n",
       "        [0. , 0.1, 0. , 0. , 0. , 0. , 0. , 0. , 0. , 0. ],\n",
       "        [0. , 0.5, 0.2, 0. , 0. , 0. , 0. , 0. , 0. , 0. ],\n",
       "        [0. , 0. , 0.6, 0.3, 0. , 0. , 0. , 0. , 0. , 0. ],\n",
       "        [0. , 0. , 0. , 0.5, 0.3, 0. , 0. , 0. , 0. , 0. ],\n",
       "        [0. , 0. , 0. , 0. , 0.4, 0.3, 0. , 0. , 0. , 0. ],\n",
       "        [0. , 0. , 0. , 0. , 0. , 0.3, 0.3, 0. , 0. , 0. ],\n",
       "        [0. , 0. , 0. , 0. , 0. , 0. , 0.2, 0.3, 0. , 0. ],\n",
       "        [0. , 0. , 0. , 0. , 0. , 0. , 0. , 0.1, 0.3, 0. ],\n",
       "        [0. , 0. , 0. , 0. , 0. , 0. , 0. , 0. , 0.1, 0.2]])"
      ]
     },
     "execution_count": 11,
     "metadata": {},
     "output_type": "execute_result"
    }
   ],
   "source": [
    "L0"
   ]
  },
  {
   "cell_type": "code",
   "execution_count": 12,
   "metadata": {},
   "outputs": [
    {
     "data": {
      "text/plain": [
       "matrix([[0., 0., 0., 0., 0., 0., 0., 0., 0., 0.],\n",
       "        [1., 0., 0., 0., 0., 0., 0., 0., 0., 0.],\n",
       "        [0., 0., 0., 0., 0., 0., 0., 0., 0., 0.],\n",
       "        [0., 0., 0., 0., 0., 0., 0., 0., 0., 0.],\n",
       "        [0., 0., 0., 0., 0., 0., 0., 0., 0., 0.],\n",
       "        [0., 0., 0., 0., 0., 0., 0., 0., 0., 0.],\n",
       "        [0., 0., 0., 0., 0., 0., 0., 0., 0., 0.],\n",
       "        [0., 0., 0., 0., 0., 0., 0., 0., 0., 0.],\n",
       "        [0., 0., 0., 0., 0., 0., 0., 0., 0., 0.],\n",
       "        [0., 0., 0., 0., 0., 0., 0., 0., 0., 0.]])"
      ]
     },
     "execution_count": 12,
     "metadata": {},
     "output_type": "execute_result"
    }
   ],
   "source": [
    "U"
   ]
  },
  {
   "cell_type": "markdown",
   "metadata": {},
   "source": [
    "Now we calculate the total population in 1 bln years for $s_{01} = 0, 0.1, 0.2, \\ldots, 1$."
   ]
  },
  {
   "cell_type": "code",
   "execution_count": 13,
   "metadata": {},
   "outputs": [],
   "source": [
    "s=np.arange(0,1.1,0.1)\n",
    "n=int(1e+9)"
   ]
  },
  {
   "cell_type": "code",
   "execution_count": 14,
   "metadata": {},
   "outputs": [],
   "source": [
    "# L0, U and n are defined outside the function\n",
    "\n",
    "def future_pop(s):\n",
    "    return (s,(((L0+s*U)**n)*x0).sum())"
   ]
  },
  {
   "cell_type": "code",
   "execution_count": 15,
   "metadata": {},
   "outputs": [],
   "source": [
    "future_pop_vec = np.vectorize(future_pop)"
   ]
  },
  {
   "cell_type": "code",
   "execution_count": 16,
   "metadata": {},
   "outputs": [],
   "source": [
    "future_population = future_pop_vec(s)"
   ]
  },
  {
   "cell_type": "code",
   "execution_count": 17,
   "metadata": {},
   "outputs": [
    {
     "data": {
      "text/plain": [
       "array([[0. , 0. ],\n",
       "       [0.1, 0. ],\n",
       "       [0.2, 0. ],\n",
       "       [0.3, 0. ],\n",
       "       [0.4, 0. ],\n",
       "       [0.5, 0. ],\n",
       "       [0.6, 0. ],\n",
       "       [0.7, 0. ],\n",
       "       [0.8, 0. ],\n",
       "       [0.9, inf],\n",
       "       [1. , inf]])"
      ]
     },
     "execution_count": 17,
     "metadata": {},
     "output_type": "execute_result"
    }
   ],
   "source": [
    "np.array(future_population).T"
   ]
  },
  {
   "cell_type": "markdown",
   "metadata": {},
   "source": [
    "From the numerical simulations above, we see that the total population seems to approach $\\infty$ when $s_{01} \\ge 0.9$ and $0$ when $s_{01} \\le 0.8$. It means that the first decimal place of the threshold is $8$, i.e. the threshold is $0.8...$.\n",
    "\n",
    "Now we will calculate the total population for $s_{01} = 0.8, 0.81, 0.82, \n",
    "\\ldots, 0.9$. "
   ]
  },
  {
   "cell_type": "code",
   "execution_count": 18,
   "metadata": {},
   "outputs": [],
   "source": [
    "s=np.arange(0.8,0.91,0.01)"
   ]
  },
  {
   "cell_type": "code",
   "execution_count": 19,
   "metadata": {},
   "outputs": [],
   "source": [
    "future_population = future_pop_vec(s)"
   ]
  },
  {
   "cell_type": "code",
   "execution_count": 20,
   "metadata": {},
   "outputs": [
    {
     "data": {
      "text/plain": [
       "array([[0.8 , 0.  ],\n",
       "       [0.81, 0.  ],\n",
       "       [0.82, 0.  ],\n",
       "       [0.83, 0.  ],\n",
       "       [0.84, 0.  ],\n",
       "       [0.85, 0.  ],\n",
       "       [0.86,  inf],\n",
       "       [0.87,  inf],\n",
       "       [0.88,  inf],\n",
       "       [0.89,  inf],\n",
       "       [0.9 ,  inf]])"
      ]
     },
     "execution_count": 20,
     "metadata": {},
     "output_type": "execute_result"
    }
   ],
   "source": [
    "np.array(future_population).T"
   ]
  },
  {
   "cell_type": "markdown",
   "metadata": {},
   "source": [
    "The threshold is $0.85...$."
   ]
  },
  {
   "cell_type": "code",
   "execution_count": 21,
   "metadata": {},
   "outputs": [],
   "source": [
    "s=np.arange(0.85,0.861,0.001)"
   ]
  },
  {
   "cell_type": "code",
   "execution_count": 22,
   "metadata": {},
   "outputs": [],
   "source": [
    "future_population = future_pop_vec(s)"
   ]
  },
  {
   "cell_type": "code",
   "execution_count": 23,
   "metadata": {},
   "outputs": [
    {
     "data": {
      "text/plain": [
       "array([[0.85 , 0.   ],\n",
       "       [0.851, 0.   ],\n",
       "       [0.852, 0.   ],\n",
       "       [0.853, 0.   ],\n",
       "       [0.854, 0.   ],\n",
       "       [0.855, 0.   ],\n",
       "       [0.856, 0.   ],\n",
       "       [0.857,   inf],\n",
       "       [0.858,   inf],\n",
       "       [0.859,   inf],\n",
       "       [0.86 ,   inf],\n",
       "       [0.861,   inf]])"
      ]
     },
     "execution_count": 23,
     "metadata": {},
     "output_type": "execute_result"
    }
   ],
   "source": [
    "np.array(future_population).T"
   ]
  },
  {
   "cell_type": "markdown",
   "metadata": {},
   "source": [
    "The threshold is $0.856...$."
   ]
  },
  {
   "cell_type": "code",
   "execution_count": 24,
   "metadata": {},
   "outputs": [],
   "source": [
    "s=np.arange(0.856,0.8571, 0.0001)"
   ]
  },
  {
   "cell_type": "code",
   "execution_count": 25,
   "metadata": {},
   "outputs": [],
   "source": [
    "future_population = future_pop_vec(s)"
   ]
  },
  {
   "cell_type": "code",
   "execution_count": 26,
   "metadata": {},
   "outputs": [
    {
     "data": {
      "text/plain": [
       "array([[0.856 , 0.    ],\n",
       "       [0.8561, 0.    ],\n",
       "       [0.8562, 0.    ],\n",
       "       [0.8563, 0.    ],\n",
       "       [0.8564, 0.    ],\n",
       "       [0.8565, 0.    ],\n",
       "       [0.8566, 0.    ],\n",
       "       [0.8567, 0.    ],\n",
       "       [0.8568,    inf],\n",
       "       [0.8569,    inf],\n",
       "       [0.857 ,    inf]])"
      ]
     },
     "execution_count": 26,
     "metadata": {},
     "output_type": "execute_result"
    }
   ],
   "source": [
    "np.array(future_population).T"
   ]
  },
  {
   "cell_type": "markdown",
   "metadata": {},
   "source": [
    "The threshold is $0.8567...$, which is $0.857$ rounded to $3$ decimal places."
   ]
  },
  {
   "cell_type": "markdown",
   "metadata": {},
   "source": [
    "# Exercise 4\n",
    "Create a plot of the largest eigenvalue of `L` against $s_{01}$, for values of $s_{01}$ around the threshold $\\overline{s_{01}}$.\n",
    "\n",
    "How does the largest eigenvalue behave when $s_{01}$ crosses the threshold?\n",
    "\n",
    "What conjecture can you draw from this observation?"
   ]
  },
  {
   "cell_type": "code",
   "execution_count": 27,
   "metadata": {},
   "outputs": [],
   "source": [
    "def max_eigen_value(s):\n",
    "    return max(np.linalg.eigvals(L0+s*U))"
   ]
  },
  {
   "cell_type": "code",
   "execution_count": 28,
   "metadata": {},
   "outputs": [],
   "source": [
    "s=np.arange(0.856,0.8571, 0.0001)"
   ]
  },
  {
   "cell_type": "code",
   "execution_count": 29,
   "metadata": {},
   "outputs": [],
   "source": [
    "max_eigen_value = np.vectorize(max_eigen_value)(s)"
   ]
  },
  {
   "cell_type": "code",
   "execution_count": 30,
   "metadata": {},
   "outputs": [
    {
     "data": {
      "text/plain": [
       "array([0.99983709+0.j, 0.99985883+0.j, 0.99988057+0.j, 0.99990231+0.j,\n",
       "       0.99992405+0.j, 0.99994579+0.j, 0.99996752+0.j, 0.99998926+0.j,\n",
       "       1.00001099+0.j, 1.00003272+0.j, 1.00005445+0.j])"
      ]
     },
     "execution_count": 30,
     "metadata": {},
     "output_type": "execute_result"
    }
   ],
   "source": [
    "max_eigen_value"
   ]
  },
  {
   "cell_type": "code",
   "execution_count": 31,
   "metadata": {},
   "outputs": [
    {
     "data": {
      "image/png": "[encoded data removed]",
      "text/plain": [
       "<Figure size 432x288 with 1 Axes>"
      ]
     },
     "metadata": {},
     "output_type": "display_data"
    }
   ],
   "source": [
    "plt.plot(max_eigen_value.real)\n",
    "plt.show()"
   ]
  },
  {
   "cell_type": "markdown",
   "metadata": {},
   "source": [
    "Observe that when $s_{01}$ crosses the threshold, the largest eigenvalue of the\n",
    "Lefkovitch matrix grows bigger than $1$. It means that the threshold is precisely the value of $s_{01}$ such that the largest eigenvalue of $L$ is $1$.\n",
    "This fact is a corollary from the Perron-Frobenius Theorem. Indeed, let's di-\n",
    "agonalize the Lefkovitch matrix, i.e., write $L = CDC^{1}$ where $D$ is a diagonal matrix and let $r$ be the largest eigenvalue. It is a positive real number and, for any other eigenvalue $\\lambda$, we have $|\\lambda| < r$.\n",
    "\n",
    "If $r<1$, then $\\lim_{n \\rightarrow \\infty} \\lambda^{n} = 0$ for all $\\lambda$ and therefore we get\n",
    "$$\\lim_{n \\rightarrow \\infty} L^{n} = \\lim_{n \\rightarrow \\infty} CD^{n}C^{-1} = C \\cdot \\lim_{n \\rightarrow \\infty} D^{n} \\cdot C^{-1} = 0.$$\n",
    "\n",
    "If $r>1$, then $\\lim_{n \\rightarrow \\infty} r^{n} =\\infty$ and hence $\\lim_{n \\rightarrow \\infty}D^{n}$ will have $\\infty$ in at least\n",
    "one entry. Clearly, the total population will then approach $\\infty$."
   ]
  }
 ],
 "metadata": {
  "kernelspec": {
   "display_name": "Python 3",
   "language": "python",
   "name": "python3"
  },
  "language_info": {
   "codemirror_mode": {
    "name": "ipython",
    "version": 3
   },
   "file_extension": ".py",
   "mimetype": "text/x-python",
   "name": "python",
   "nbconvert_exporter": "python",
   "pygments_lexer": "ipython3",
   "version": "3.6.5"
  }
 },
 "nbformat": 4,
 "nbformat_minor": 2
}
